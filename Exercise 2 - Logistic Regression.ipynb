{
 "cells": [
  {
   "cell_type": "markdown",
   "metadata": {},
   "source": [
    "### Machine Learning: Exercise 1: Logistic Regression\n",
    "This notebook is a Python implementation of Exercise 2 from the Machine Learning Course given by Andrew Ng on Coursera. It follows the live script including the optional excercises.<br>\n",
    "**Author:** Pascal Wenger<br>\n",
    "**Created:** 07.Sept 2018"
   ]
  },
  {
   "cell_type": "code",
   "execution_count": 25,
   "metadata": {},
   "outputs": [
    {
     "name": "stdout",
     "output_type": "stream",
     "text": [
      "###############################################################################\n"
     ]
    }
   ],
   "source": [
    "# import libraries\n",
    "import os\n",
    "import pandas as pd\n",
    "import numpy as np \n",
    "import matplotlib.pyplot as plt\n",
    "from ipywidgets import interact, interactive\n",
    "import seaborn as sns\n",
    "print('#'*79) # guidance python pep: maximum lenght 79 characters"
   ]
  },
  {
   "cell_type": "code",
   "execution_count": 2,
   "metadata": {},
   "outputs": [
    {
     "data": {
      "text/html": [
       "<div>\n",
       "<style scoped>\n",
       "    .dataframe tbody tr th:only-of-type {\n",
       "        vertical-align: middle;\n",
       "    }\n",
       "\n",
       "    .dataframe tbody tr th {\n",
       "        vertical-align: top;\n",
       "    }\n",
       "\n",
       "    .dataframe thead th {\n",
       "        text-align: right;\n",
       "    }\n",
       "</style>\n",
       "<table border=\"1\" class=\"dataframe\">\n",
       "  <thead>\n",
       "    <tr style=\"text-align: right;\">\n",
       "      <th></th>\n",
       "      <th>0</th>\n",
       "      <th>1</th>\n",
       "      <th>2</th>\n",
       "    </tr>\n",
       "  </thead>\n",
       "  <tbody>\n",
       "    <tr>\n",
       "      <th>0</th>\n",
       "      <td>34.623660</td>\n",
       "      <td>78.024693</td>\n",
       "      <td>0</td>\n",
       "    </tr>\n",
       "    <tr>\n",
       "      <th>1</th>\n",
       "      <td>30.286711</td>\n",
       "      <td>43.894998</td>\n",
       "      <td>0</td>\n",
       "    </tr>\n",
       "    <tr>\n",
       "      <th>2</th>\n",
       "      <td>35.847409</td>\n",
       "      <td>72.902198</td>\n",
       "      <td>0</td>\n",
       "    </tr>\n",
       "  </tbody>\n",
       "</table>\n",
       "</div>"
      ],
      "text/plain": [
       "           0          1  2\n",
       "0  34.623660  78.024693  0\n",
       "1  30.286711  43.894998  0\n",
       "2  35.847409  72.902198  0"
      ]
     },
     "execution_count": 2,
     "metadata": {},
     "output_type": "execute_result"
    }
   ],
   "source": [
    "# load data (the ex2data1.txt must be in the same directoy as this notebook)\n",
    "# the first two columns contain the exam scores \n",
    "# and the third column contains the label\n",
    "df = pd.read_csv('ex2data1.txt', header=None)\n",
    "df.head(3)"
   ]
  },
  {
   "cell_type": "code",
   "execution_count": 3,
   "metadata": {},
   "outputs": [
    {
     "name": "stdout",
     "output_type": "stream",
     "text": [
      "X_raw:  (100, 2)\n",
      "y_raw:  (100,)\n"
     ]
    }
   ],
   "source": [
    "X_raw = df.loc[:,[0,1]].values\n",
    "y_raw = df.loc[:,2].values\n",
    "print(\"X_raw: \", X_raw.shape)\n",
    "print(\"y_raw: \", y_raw.shape)"
   ]
  },
  {
   "cell_type": "markdown",
   "metadata": {},
   "source": [
    "#### Visualising Data"
   ]
  },
  {
   "cell_type": "code",
   "execution_count": 4,
   "metadata": {},
   "outputs": [
    {
     "data": {
      "image/png": "[encoded data removed]",
      "text/plain": [
       "<Figure size 623.622x623.622 with 1 Axes>"
      ]
     },
     "metadata": {},
     "output_type": "display_data"
    }
   ],
   "source": [
    "def plot_Data(X,y):\n",
    "    \"\"\"\n",
    "    Plots the data points X and y into a new figure \n",
    "    plotdata(x,y) plots the data points with + for the positive examples\n",
    "    and o for the negative examples. X is assumed to be a Mx2 matrix.\n",
    "    \"\"\"\n",
    "    sns.set(font_scale=1.2)\n",
    "    fig, ax = plt.subplots(figsize=(22/2.54, 22/2.54))\n",
    "    \n",
    "    ax.plot(X[:,0][y==1], X[:,1][y==1], '+', color='blue',\n",
    "            markersize=8, label='1',  mew=1)\n",
    "    \n",
    "    ax.plot(X[:,0][y==0], X[:,1][y==0], 'o', color='red',\n",
    "            markersize=7, markerfacecolor='red', label='0', mew=1)\n",
    "    \n",
    "    return fig, ax\n",
    "\n",
    "fig, ax = plot_Data(X_raw, y_raw)\n",
    "ax.set_title(\"Training data: student admission\")\n",
    "ax.set_xlabel(\"Exam 1 score\")\n",
    "ax.set_ylabel(\"Exam 2 score\")\n",
    "plt.legend(loc='upper right',frameon=True, shadow=True)\n",
    "plt.show()"
   ]
  },
  {
   "cell_type": "markdown",
   "metadata": {},
   "source": [
    "#### Sigmoid function"
   ]
  },
  {
   "cell_type": "code",
   "execution_count": 5,
   "metadata": {},
   "outputs": [],
   "source": [
    "def sigmoid(z):\n",
    "    \"\"\"compute the sigmoid function\"\"\"\n",
    "    \n",
    "    g = 1 / (1 + np.exp(-z))\n",
    "    \n",
    "    return g"
   ]
  },
  {
   "cell_type": "code",
   "execution_count": 6,
   "metadata": {},
   "outputs": [
    {
     "name": "stdout",
     "output_type": "stream",
     "text": [
      "sigmoid(-5): 0.007\n",
      "sigmoid( 0): 0.500\n",
      "sigmoid( 5): 0.993\n"
     ]
    }
   ],
   "source": [
    "# input values to the sigmoid function to check implementation:\n",
    "print(\"sigmoid(-5): {:2.3f}\".format(sigmoid(-5)))\n",
    "print(\"sigmoid( 0): {:2.3f}\".format(sigmoid(0)))\n",
    "print(\"sigmoid( 5): {:2.3f}\".format(sigmoid(5)))"
   ]
  },
  {
   "cell_type": "markdown",
   "metadata": {},
   "source": [
    "#### Cost and gradient function"
   ]
  },
  {
   "cell_type": "code",
   "execution_count": 7,
   "metadata": {},
   "outputs": [],
   "source": [
    "def costFunc_LogRegression(theta, X, y):\n",
    "    \"\"\"\n",
    "    compute the cost function\n",
    "    Input:     parameters theta\n",
    "               matrix X\n",
    "               result vector y\n",
    "    Output:    cost value J\n",
    "    Functions: sigmoid() \n",
    "    \"\"\"\n",
    "    \n",
    "    # length of training data\n",
    "    m = y.shape[0]\n",
    "    \n",
    "    # length of theta\n",
    "    n = len(theta)\n",
    "    \n",
    "    # adapt shape for scipy.optimize.minimize function:\n",
    "    theta = theta.reshape((n,1))\n",
    "    \n",
    "    # sigmoid(X @ theta), @ is short for np.matmul:\n",
    "    sig_h_theta_x = sigmoid(X @ theta)\n",
    "    \n",
    "    # calculate cost value:\n",
    "    k = (-y*np.log(sig_h_theta_x) - (1-y)*np.log(1-sig_h_theta_x))\n",
    "    J = 1/m * sum(k)\n",
    "\n",
    "    return J\n",
    "\n",
    "\n",
    "def gradFunc_LogRegression(theta, X, y):\n",
    "    \"\"\"\n",
    "    compute the grad function\n",
    "    Input:  parameters theta\n",
    "            matrix X\n",
    "            result vector y\n",
    "    Output: grad vector\n",
    "    \"\"\"\n",
    "    \n",
    "    # length of training data:\n",
    "    m = y.shape[0]\n",
    "    \n",
    "    # length of theta:\n",
    "    n = len(theta)\n",
    "    \n",
    "    # adapt shape for scipy.optimize.minimize function:\n",
    "    theta = theta.reshape((n,1))\n",
    "    \n",
    "    #initial setting:\n",
    "    grad = np.zeros(theta.shape)\n",
    "    \n",
    "    # sigmoid(X * theta), @ is short for np.matmul:\n",
    "    sig_h_theta_x = sigmoid(X @ theta)\n",
    "    \n",
    "    # calculated gradient vector:\n",
    "    for j in range(len(theta)):\n",
    "        grad[j] = 1/m * sum((sig_h_theta_x - y) * X[:,j].reshape(m,1)) \n",
    "     \n",
    "    return grad.reshape(n)"
   ]
  },
  {
   "cell_type": "markdown",
   "metadata": {},
   "source": [
    "#### Set parameters and show initial cost and gradient:"
   ]
  },
  {
   "cell_type": "code",
   "execution_count": 8,
   "metadata": {},
   "outputs": [
    {
     "name": "stdout",
     "output_type": "stream",
     "text": [
      "Cost at initial theta(zero): 0.693147\n",
      "Gradient at initial theta (zeros): -0.1000, -12.0092, -11.2628.\n"
     ]
    }
   ],
   "source": [
    "# Setup vector appropriately:\n",
    "y = y_raw.reshape(len(y_raw),1)\n",
    "#Add intercept term to X:\n",
    "X = np.column_stack((np.ones((len(y),1)), X_raw))\n",
    "\n",
    "# Initialize the fitting parameters:\n",
    "theta_0 = np.zeros(3).reshape(3,1)\n",
    "\n",
    "#Setup vector appropriately:\n",
    "y = y.reshape(len(y),1)\n",
    "\n",
    "# Compute and display the initial cost and gradient:\n",
    "J = costFunc_LogRegression(theta_0, X, y)\n",
    "grad = gradFunc_LogRegression(theta_0, X, y)\n",
    "\n",
    "print(\"Cost at initial theta(zero): {:.6f}\".format(J[0]))\n",
    "print(\"Gradient at initial theta (zeros): \" +\n",
    "      \"{:.4f}, {:.4f}, {:.4f}.\".format(grad[0], grad[1], grad[2]))"
   ]
  },
  {
   "cell_type": "markdown",
   "metadata": {},
   "source": [
    "#### Learning parameters using *scipy.optimize.minimize*"
   ]
  },
  {
   "cell_type": "code",
   "execution_count": 9,
   "metadata": {},
   "outputs": [
    {
     "name": "stdout",
     "output_type": "stream",
     "text": [
      "Cost at theta found by fminunc: 0.203498\n",
      "Theta at theta found by fminunc: -25.1611, 0.2062, 0.2015.\n"
     ]
    }
   ],
   "source": [
    "theta = theta_0.reshape(len(theta_0))\n",
    "theta = theta + 0.01 # to eliminate zero division warning\n",
    "\n",
    "from scipy.optimize import minimize\n",
    "res = minimize(costFunc_LogRegression, theta, args=(X,y), method='BFGS', \n",
    "               jac=gradFunc_LogRegression)\n",
    "theta = res.x\n",
    "cost = res.fun\n",
    "\n",
    "print('Cost at theta found by fminunc: {:.6f}'.format(cost))\n",
    "print(\"Theta at theta found by fminunc: \" +\n",
    "      \"{:.4f}, {:.4f}, {:.4f}.\".format(theta[0], theta[1], theta[2]))"
   ]
  },
  {
   "cell_type": "markdown",
   "metadata": {},
   "source": [
    "#### Plot data with decision boundary"
   ]
  },
  {
   "cell_type": "code",
   "execution_count": 22,
   "metadata": {},
   "outputs": [],
   "source": [
    "def map_Feature(X1, X2, degree=6):\n",
    "    \"\"\"\n",
    "    Feature mapping function to polynomial features\n",
    "    mapFeature(X1, X2) maps the two input features\n",
    "    to quadratic features used in the regularization exercise.\n",
    "\n",
    "    Returns a new feature array with more features, comprising of \n",
    "    X1, X2, X1.^2, X1*X2, X2.^2, X1^3, X1^2*X2, ..., X1^1*X2^5, X2^6\n",
    "\n",
    "    Inputs X1, X2 must be the same size\n",
    "    \"\"\"\n",
    "    # length of training data\n",
    "    m = X1.shape[0]\n",
    "\n",
    "    # first column is filled with ones X0=1\n",
    "    out = np.ones((m,1))\n",
    "    \n",
    "    for i in range(1, degree+1):\n",
    "        \n",
    "        for j in range(i+1):\n",
    "            \n",
    "            z = (X1**(i-j) * X2**j).reshape(m,1)\n",
    "            \n",
    "            out = np.append(out, z, axis=1)\n",
    "            \n",
    "    return out\n",
    "\n",
    "\n",
    "def plotDecisionBoundary(theta, X, y):\n",
    "    \"\"\"\n",
    "    Plots the data points X and y into a new figure with\n",
    "    the decision boundary defined by theta\n",
    "    plotDecisionBoundary(theta, X, y) plots the data points with + for the \n",
    "    positive examples and o for the negative examples. X is assumed to be \n",
    "    a either \n",
    "    1) Mx3 matrix, where the first column is an all-ones column for the \n",
    "       intercept.\n",
    "    2) MxN, N>3 matrix, where the first column is all-ones\n",
    "    \"\"\"\n",
    "    # Plot Data\n",
    "    fig, ax = plot_Data(X[:,1:3], y[:,0])\n",
    "    \n",
    "    if X.shape[1] <= 3:\n",
    "        # Only need 2 points to define a line, so choose two endpoints\n",
    "        plot_x = np.array([min(X[:,2]),  max(X[:,2])]);\n",
    "        \n",
    "        # Calculate the decision boundary line\n",
    "        plot_y = -1/theta[2] * (theta[0] + theta[1]*plot_x)\n",
    "    \n",
    "        # Plot, and adjust axes for better viewing\n",
    "        ax.plot(plot_x, plot_y, linewidth=3, color='green', \n",
    "                label='decision boundary')\n",
    "    \n",
    "    else:\n",
    "        # Here is the grid range\n",
    "        u = np.linspace(-1, 1.5, 50)\n",
    "        v = np.linspace(-1, 1.5, 50)\n",
    "        z = np.zeros((len(u), len(v)))\n",
    "        \n",
    "        # Evaluate z = theta*x over the grid\n",
    "        for h in range(len(u)):\n",
    "            \n",
    "            for k in range(len(v)):\n",
    "                \n",
    "                Xi = map_Feature(np.array([u[h]]), np.array([v[k]]))\n",
    "                z[h,k] = Xi @theta\n",
    "                \n",
    "        z = z.T \n",
    "        ax.contour(u, v, z, 0, colors='green')\n",
    "        \n",
    "    return fig, ax"
   ]
  },
  {
   "cell_type": "code",
   "execution_count": 11,
   "metadata": {},
   "outputs": [
    {
     "data": {
      "image/png": "[encoded data removed]",
      "text/plain": [
       "<Figure size 623.622x623.622 with 1 Axes>"
      ]
     },
     "metadata": {},
     "output_type": "display_data"
    }
   ],
   "source": [
    "# plot data\n",
    "fig, ax = plotDecisionBoundary(theta, X, y)\n",
    "ax.set_title(\"Training data: student admission\")\n",
    "ax.set_xlabel(\"Exam 1 score\")\n",
    "ax.set_ylabel(\"Exam 2 score\")\n",
    "plt.legend(loc='upper right',frameon=True, shadow=True)\n",
    "plt.show()"
   ]
  },
  {
   "cell_type": "markdown",
   "metadata": {},
   "source": [
    "#### Evaluating logistic regression"
   ]
  },
  {
   "cell_type": "code",
   "execution_count": 12,
   "metadata": {},
   "outputs": [
    {
     "name": "stdout",
     "output_type": "stream",
     "text": [
      "For a student with scores 45 & 85, we predict an\n",
      "admission probability of 0.776289.\n"
     ]
    }
   ],
   "source": [
    "# Predict probability for a student with score 45 on exam 1  \n",
    "# and score 85 on exam 2 \n",
    "prob = sigmoid(np.array([1, 45,85]).reshape((1,3)) @ theta)\n",
    "print(\"For a student with scores 45 & 85, we predict an\\nadmission \" + \n",
    "      \"probability of {:.6f}.\".format(prob[0]))"
   ]
  },
  {
   "cell_type": "code",
   "execution_count": 13,
   "metadata": {},
   "outputs": [],
   "source": [
    "def predict(theta, X):\n",
    "    \"\"\"\n",
    "    Predict whether the label is 0 or 1 using learned logistic \n",
    "    regression parameters theta\n",
    "    p = predict(theta, X)computes the predictions for X using a \n",
    "    threshold at 0.5 (i.e., if sigmoid(theta'*x) >= 0.5, predict 1)\n",
    "    \"\"\"\n",
    "    m = X.shape[0] # Number of training examples\n",
    "    \n",
    "    # adapte shape for matmul function:\n",
    "    theta = theta.reshape((len(theta),1))\n",
    "     \n",
    "    # container for prediction values set initialy all to zero\n",
    "    p = np.zeros((m, 1))\n",
    "\n",
    "    # sigmoid(X * theta):\n",
    "    z = sigmoid(X @ theta)\n",
    "    \n",
    "    # set values in p to 1 where value >=0.5\n",
    "    pos = np.where(z >= 0.5) \n",
    "    p[pos] = 1\n",
    "    \n",
    "    return p"
   ]
  },
  {
   "cell_type": "code",
   "execution_count": 14,
   "metadata": {},
   "outputs": [
    {
     "name": "stdout",
     "output_type": "stream",
     "text": [
      "Train Accuracy: 89.000 %\n"
     ]
    }
   ],
   "source": [
    "# Compute accuracy on our training set\n",
    "p = predict(theta, X)\n",
    "print(\"Train Accuracy: {:.3f} %\".format(np.mean((p==y).astype(int))*100))"
   ]
  },
  {
   "cell_type": "markdown",
   "metadata": {},
   "source": [
    "### Regularized logistic regression"
   ]
  },
  {
   "cell_type": "markdown",
   "metadata": {},
   "source": [
    "#### visualizing data"
   ]
  },
  {
   "cell_type": "code",
   "execution_count": 15,
   "metadata": {},
   "outputs": [],
   "source": [
    "# load data (the ex2data2.txt must be in the same directoy as this notebook)\n",
    "# the first two columns contain the exam scores \n",
    "# and the third column contains the label\n",
    "df = pd.read_csv('ex2data2.txt', header=None)\n",
    "X_raw = df.loc[:,[0,1]].values\n",
    "y_raw = df.loc[:,2].values"
   ]
  },
  {
   "cell_type": "code",
   "execution_count": 16,
   "metadata": {},
   "outputs": [
    {
     "data": {
      "image/png": "[encoded data removed]",
      "text/plain": [
       "<Figure size 623.622x623.622 with 1 Axes>"
      ]
     },
     "metadata": {},
     "output_type": "display_data"
    }
   ],
   "source": [
    "# visualize data\n",
    "fig, ax = plot_Data(X_raw, y_raw)\n",
    "ax.set_title(\"Training data\")\n",
    "ax.set_xlabel(\"Micro chip test 1\")\n",
    "ax.set_ylabel(\"Micro chip tes 2\")\n",
    "plt.legend(loc='upper right',frameon=True, shadow=True)\n",
    "plt.show()"
   ]
  },
  {
   "cell_type": "markdown",
   "metadata": {},
   "source": [
    "#### Feature maping"
   ]
  },
  {
   "cell_type": "code",
   "execution_count": 17,
   "metadata": {},
   "outputs": [
    {
     "name": "stdout",
     "output_type": "stream",
     "text": [
      "Shape of X: (118, 28)\n"
     ]
    }
   ],
   "source": [
    "# Add Polynomial Features\n",
    "# Note that mapFeature also adds a column of ones for us, \n",
    "# so the intercept term is handled\n",
    "X = map_Feature(X_raw[:,0], X_raw[:,1])\n",
    "\n",
    "# Setup vector appropriately\n",
    "y = y_raw.reshape(len(y_raw),1)\n",
    "\n",
    "print(\"Shape of X:\", X.shape)"
   ]
  },
  {
   "cell_type": "markdown",
   "metadata": {},
   "source": [
    "#### Cost function and gradient (regularized)"
   ]
  },
  {
   "cell_type": "code",
   "execution_count": 18,
   "metadata": {},
   "outputs": [],
   "source": [
    "def costFunc_LogRegression_Regularized(theta, X, y, lambda_reg=1):\n",
    "    \"\"\"\n",
    "    compute the regularized cost function\n",
    "    Input:     parameters theta\n",
    "               matrix X\n",
    "               result vector y\n",
    "    Output:    cost value J\n",
    "    Functions: sigmoid() \n",
    "    \"\"\"\n",
    "    \n",
    "    # length of training data\n",
    "    m = y.shape[0]\n",
    "    \n",
    "    # length of theta\n",
    "    n = len(theta)\n",
    "    \n",
    "    # adapte shape for matmul function:\n",
    "    theta = theta.reshape((n,1))\n",
    "    \n",
    "    # sigmoid(X * theta):\n",
    "    sig_theta_x = sigmoid(X @ theta)\n",
    "    \n",
    "    # calculate cost value:\n",
    "    K = 1/m * sum(-y*np.log(sig_theta_x) - (1-y)*np.log(1-sig_theta_x))\n",
    "    \n",
    "    R = lambda_reg/(2*m) * sum(theta[1:]**2)\n",
    "\n",
    "    J = K + R\n",
    "    \n",
    "    return J\n",
    "\n",
    "\n",
    "def gradFunc_LogRegression_Regularized(theta, X, y, lambda_reg=1):\n",
    "    \"\"\"\n",
    "    compute the regularized grad function\n",
    "    Input:  parameters theta\n",
    "            matrix X\n",
    "            result vector y\n",
    "    Output: grad vector\n",
    "    \"\"\"\n",
    "    # length of training data\n",
    "    m = y.shape[0]\n",
    "    \n",
    "    # length of theta\n",
    "    n = len(theta) \n",
    "    \n",
    "    # adapte shape for matmul function:\n",
    "    theta = theta.reshape((n,1))\n",
    "    \n",
    "    #initial setting:\n",
    "    grad = np.zeros(theta.shape)\n",
    "    \n",
    "    # sigmoid(X * theta):\n",
    "    sig_theta_x = sigmoid(X @ theta)\n",
    "\n",
    "    # calculated gradient vector:\n",
    "    j = 0\n",
    "    grad[j] = 1/m *sum((sig_theta_x - y) * X[:,j].reshape(m,1))\n",
    "    \n",
    "    #for j>0:\n",
    "    for j in range(1,len(theta)):\n",
    "\n",
    "        K = 1/m * sum((sig_theta_x - y) * X[:,j].reshape(m,1)) \n",
    "        \n",
    "        grad[j] = K + lambda_reg/m * theta[j]\n",
    "    \n",
    "    \n",
    "    return grad.reshape(n)\n"
   ]
  },
  {
   "cell_type": "markdown",
   "metadata": {},
   "source": [
    "#### Learning parameters using *scipy.optimize.minimize*"
   ]
  },
  {
   "cell_type": "code",
   "execution_count": 19,
   "metadata": {},
   "outputs": [
    {
     "name": "stdout",
     "output_type": "stream",
     "text": [
      "Cost at initial theta (zeros): 0.697700\n",
      "Shape of grad: (28,)\n"
     ]
    }
   ],
   "source": [
    "# Initialize fitting parameters\n",
    "theta_0 = np.zeros(X.shape[1])\n",
    "theta_0 = theta_0 + 0.01 # to eliminate zero division warning\n",
    "\n",
    "# Set regularization parameter lambda to 1\n",
    "lr = 1\n",
    "\n",
    "# Compute and display initial cost and gradient for regularized \n",
    "# logistic regression\n",
    "cost = costFunc_LogRegression_Regularized(theta_0, X, y, lambda_reg=lr)\n",
    "grad = gradFunc_LogRegression_Regularized(theta_0, X, y, lambda_reg=lr)\n",
    "\n",
    "print(\"Cost at initial theta (zeros): {:.6f}\".format(cost[0]))\n",
    "print(\"Shape of grad:\", grad.shape) "
   ]
  },
  {
   "cell_type": "code",
   "execution_count": 20,
   "metadata": {},
   "outputs": [
    {
     "name": "stdout",
     "output_type": "stream",
     "text": [
      "Cost at theta found by fminunc: 0.529003\n",
      "Number of iterations 46.\n"
     ]
    }
   ],
   "source": [
    "# optimze:\n",
    "res = minimize(costFunc_LogRegression_Regularized, theta_0, \n",
    "               args = (X, y, lr), method = 'BFGS', \n",
    "               jac = gradFunc_LogRegression_Regularized)\n",
    "\n",
    "theta = res.x\n",
    "cost = res.fun\n",
    "iterations = res.nit\n",
    "\n",
    "print('Cost at theta found by fminunc: {:.6f}'.format(cost))\n",
    "print(\"Number of iterations {}.\".format(iterations))\n",
    "#print(\"Theta at theta found by fminunc:\", theta)   "
   ]
  },
  {
   "cell_type": "markdown",
   "metadata": {},
   "source": [
    "#### Plot data with decision boundary"
   ]
  },
  {
   "cell_type": "code",
   "execution_count": 23,
   "metadata": {},
   "outputs": [
    {
     "data": {
      "image/png": "[encoded data removed]",
      "text/plain": [
       "<Figure size 623.622x623.622 with 1 Axes>"
      ]
     },
     "metadata": {},
     "output_type": "display_data"
    }
   ],
   "source": [
    "# Plot Boundary\n",
    "fig, ax = plotDecisionBoundary(theta, X, y)\n",
    "ax.set_title(\"Training data\")\n",
    "ax.set_xlabel(\"Micro chip test 1\")\n",
    "ax.set_ylabel(\"Micro chip tes 2\")\n",
    "plt.legend(loc='upper right',frameon=True, shadow=True)\n",
    "plt.show()"
   ]
  },
  {
   "cell_type": "code",
   "execution_count": 24,
   "metadata": {},
   "outputs": [
    {
     "name": "stdout",
     "output_type": "stream",
     "text": [
      "Train Accuracy: 83.05 %\n"
     ]
    }
   ],
   "source": [
    "# Compute accuracy on our training set\n",
    "p = predict(theta, X);\n",
    "\n",
    "print(\"Train Accuracy: {:.2f} %\".format(np.mean((p==y).astype(int))*100))"
   ]
  },
  {
   "cell_type": "code",
   "execution_count": 50,
   "metadata": {},
   "outputs": [],
   "source": [
    "# define function for intreractive plot\n",
    "def reg_plot(lr = 1):\n",
    "    theta_0 = np.zeros(X.shape[1])\n",
    "    theta_0 = theta_0 + 0.01 # to eliminate zero division warning\n",
    "    # optimze:\n",
    "    res = minimize(costFunc_LogRegression_Regularized, theta_0, \n",
    "                   args = (X, y, lr), method = 'BFGS', \n",
    "                   jac = gradFunc_LogRegression_Regularized)\n",
    "    theta = res.x\n",
    "    p = predict(theta, X);\n",
    "    \n",
    "    # Plot Boundary\n",
    "    fig, ax = plotDecisionBoundary(theta, X, y)\n",
    "    s0 = \"Training Accuracy: {:2.2f} %\".format(np.mean((p==y).astype(int))*100)\n",
    "    s1 = \"   \"\n",
    "    s2 = \"lambda = {:4.0f}\".format(lr)\n",
    "    ax.set_title(s0 + s1 + s2, fontsize=18)\n",
    "    ax.set_xlabel(\"Micro chip test 1\")\n",
    "    ax.set_ylabel(\"Micro chip tes 2\")\n",
    "    plt.legend(loc='upper right',frameon=True, shadow=True)\n",
    "    plt.show()"
   ]
  },
  {
   "cell_type": "markdown",
   "metadata": {},
   "source": [
    "#### Interactive plot (takes a few seconds to compute the new bondary)"
   ]
  },
  {
   "cell_type": "code",
   "execution_count": 51,
   "metadata": {},
   "outputs": [
    {
     "data": {
      "application/vnd.jupyter.widget-view+json": {
       "model_id": "7874700cb7e34ca6b94f78c05e848428",
       "version_major": 2,
       "version_minor": 0
      },
      "text/plain": [
       "interactive(children=(IntSlider(value=1, description='lr', max=150), Output()), _dom_classes=('widget-interact…"
      ]
     },
     "metadata": {},
     "output_type": "display_data"
    }
   ],
   "source": [
    "# display interactive plot:\n",
    "w = interactive(reg_plot, lr=(0, 150))\n",
    "display(w)"
   ]
  },
  {
   "cell_type": "code",
   "execution_count": null,
   "metadata": {},
   "outputs": [],
   "source": [
    "############################# END of File #####################################"
   ]
  }
 ],
 "metadata": {
  "kernelspec": {
   "display_name": "Python 3",
   "language": "python",
   "name": "python3"
  },
  "language_info": {
   "codemirror_mode": {
    "name": "ipython",
    "version": 3
   },
   "file_extension": ".py",
   "mimetype": "text/x-python",
   "name": "python",
   "nbconvert_exporter": "python",
   "pygments_lexer": "ipython3",
   "version": "3.6.6"
  }
 },
 "nbformat": 4,
 "nbformat_minor": 2
}
